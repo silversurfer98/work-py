{
 "cells": [
  {
   "cell_type": "code",
   "execution_count": 1,
   "metadata": {},
   "outputs": [],
   "source": [
    "from openpyxl import load_workbook\n",
    "from openpyxl.styles import Color, PatternFill, Font, Border\n",
    "from openpyxl.styles import colors\n",
    "from openpyxl.cell import Cell\n",
    "from openpyxl.comments import Comment"
   ]
  },
  {
   "cell_type": "code",
   "execution_count": 2,
   "metadata": {},
   "outputs": [],
   "source": [
    "ours_file = load_workbook(filename=\"our.xlsx\", data_only=True)\n",
    "mech_file = load_workbook(filename=\"mech.xlsx\", data_only=True)\n",
    "\n",
    "ours = ours_file[\"Columns, Vessels, Reactors\"]\n",
    "mech = mech_file[\"Columns, Vessels, Reactors\"]"
   ]
  },
  {
   "cell_type": "code",
   "execution_count": 3,
   "metadata": {},
   "outputs": [
    {
     "data": {
      "text/plain": [
       "'cell No. AC'"
      ]
     },
     "execution_count": 3,
     "metadata": {},
     "output_type": "execute_result"
    }
   ],
   "source": [
    "def inttochar(a):\n",
    "    res1 = \"cell No. \"\n",
    "    if a>26:\n",
    "        a = a - 26 + 65 - 1\n",
    "        res1 = res1 + 'A' + chr(a)\n",
    "    else:\n",
    "        a = a + 65 - 1\n",
    "        res1 = res1 + chr(a)\n",
    "    return res1\n",
    "\n",
    "inttochar(29)"
   ]
  },
  {
   "cell_type": "code",
   "execution_count": 4,
   "metadata": {},
   "outputs": [
    {
     "name": "stdout",
     "output_type": "stream",
     "text": [
      "exception at row :  43  and column :  7  or at cell :  cell No. G 30\n",
      "data in our file :  H10-GD-D-86035\n",
      "data in their file :  None\n",
      "----------------------------------------------------------------------\n",
      "\n",
      "exception at row :  45  and column :  29  or at cell :  cell No. AC 32\n",
      "data in our file :  As per Code\n",
      "data in their file :  NO\n",
      "----------------------------------------------------------------------\n",
      "\n",
      "exception at row :  46  and column :  29  or at cell :  cell No. AC 33\n",
      "data in our file :  As per Code\n",
      "data in their file :  NO\n",
      "----------------------------------------------------------------------\n",
      "\n",
      "exception at row :  47  and column :  29  or at cell :  cell No. AC 34\n",
      "data in our file :  As per Code\n",
      "data in their file :  NO\n",
      "----------------------------------------------------------------------\n",
      "\n",
      "exception at row :  48  and column :  29  or at cell :  cell No. AC 35\n",
      "data in our file :  As per Code\n",
      "data in their file :  NO\n",
      "----------------------------------------------------------------------\n",
      "\n",
      "exception at row :  49  and column :  29  or at cell :  cell No. AC 36\n",
      "data in our file :  As per Service\n",
      "data in their file :  NO\n",
      "----------------------------------------------------------------------\n",
      "\n",
      "exception at row :  50  and column :  29  or at cell :  cell No. AC 37\n",
      "data in our file :  As per Service\n",
      "data in their file :  NO\n",
      "----------------------------------------------------------------------\n",
      "\n",
      "exception at row :  51  and column :  29  or at cell :  cell No. AC 38\n",
      "data in our file :  As per Service\n",
      "data in their file :  NO\n",
      "----------------------------------------------------------------------\n",
      "\n",
      "exception at row :  55  and column :  15  or at cell :  cell No. O 42\n",
      "data in our file :  80°C\n",
      "data in their file :  100°C\n",
      "----------------------------------------------------------------------\n",
      "\n",
      "exception at row :  55  and column :  16  or at cell :  cell No. P 42\n",
      "data in our file :  -33 °C\n",
      "data in their file :  80°C\n",
      "----------------------------------------------------------------------\n",
      "\n",
      "exception at row :  55  and column :  17  or at cell :  cell No. Q 42\n",
      "data in our file :  106.5 barg\n",
      "data in their file :  -33 °C\n",
      "----------------------------------------------------------------------\n",
      "\n",
      "exception at row :  55  and column :  18  or at cell :  cell No. R 42\n",
      "data in our file :  -5 °C\n",
      "data in their file :  106.5 barg\n",
      "----------------------------------------------------------------------\n",
      "\n",
      "exception at row :  55  and column :  19  or at cell :  cell No. S 42\n",
      "data in our file :  LTCS\n",
      "data in their file :  -5 °C\n",
      "----------------------------------------------------------------------\n",
      "\n",
      "exception at row :  55  and column :  20  or at cell :  cell No. T 42\n",
      "data in our file :  Demister  YES (SS) \n",
      "data in their file :  LTCS\n",
      "----------------------------------------------------------------------\n",
      "\n"
     ]
    }
   ],
   "source": [
    "# rows = 1 to 38 --> +13 in original file\n",
    "# columns = 1 to 31\n",
    "# ours.cell(row=1, column=1).value\n",
    "\n",
    "redFill = PatternFill(start_color='FFFF00',end_color='FFFF00',fill_type='solid')\n",
    "\n",
    "for i in range(14,51):\n",
    "    for j in range(1,31):\n",
    "        if ours.cell(row=i, column=j).value != mech.cell(row=i, column=j).value:\n",
    "            temp = str(mech.cell(row=i, column=j).value)\n",
    "            data_comment = \"data discrepency in mech file, data in their file is : \" + temp\n",
    "            comment = Comment(data_comment, \"raghav\")\n",
    "            comment.width = 300\n",
    "            comment.height = 50\n",
    "            ours.cell(row=i, column=j).comment = comment\n",
    "            ours.cell(row=i, column=j).fill = redFill\n",
    "            print(\"exception at row : \",i+13,\" and column : \",j,\" or at cell : \",inttochar(j),i)\n",
    "            print(\"data in our file : \",ours.cell(row=i, column=j).value)\n",
    "            print(\"data in their file : \",mech.cell(row=i, column=j).value)\n",
    "            print(\"----------------------------------------------------------------------\\n\")\n",
    "\n",
    "ours_file.save(filename=\"our.xlsx\")"
   ]
  }
 ],
 "metadata": {
  "kernelspec": {
   "display_name": "Python 3.10.5 64-bit",
   "language": "python",
   "name": "python3"
  },
  "language_info": {
   "codemirror_mode": {
    "name": "ipython",
    "version": 3
   },
   "file_extension": ".py",
   "mimetype": "text/x-python",
   "name": "python",
   "nbconvert_exporter": "python",
   "pygments_lexer": "ipython3",
   "version": "3.10.5"
  },
  "orig_nbformat": 4,
  "vscode": {
   "interpreter": {
    "hash": "1afc2465d51323882f1f87315e33109022f2b980037b53bf7d593afdb44ede92"
   }
  }
 },
 "nbformat": 4,
 "nbformat_minor": 2
}
