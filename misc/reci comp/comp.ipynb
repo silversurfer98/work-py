{
 "cells": [
  {
   "cell_type": "code",
   "execution_count": 2,
   "metadata": {},
   "outputs": [],
   "source": [
    "import numpy as np\n",
    "from matplotlib import pyplot as plt\n",
    "import pandas as pd\n",
    "from scipy.interpolate import interp1d as ip"
   ]
  },
  {
   "cell_type": "code",
   "execution_count": null,
   "metadata": {},
   "outputs": [],
   "source": [
    "df = pd.read_csv(\"curve_data.csv\")\n",
    "eff_graph = np.array(df['eff'])\n",
    "rp_graph = np.array(df['rp'])\n",
    "# plt.plot(rp_graph,eff_graph)\n",
    "rp_limits = np.array([np.min(rp_graph), np.max(rp_graph)])\n",
    "eff_limits = np.array([np.min(eff_graph), np.max(eff_graph)])"
   ]
  },
  {
   "cell_type": "code",
   "execution_count": null,
   "metadata": {},
   "outputs": [],
   "source": [
    "fs = ip(rp_graph, eff_graph, kind='cubic')\n",
    "rp_test = np.linspace(rp_limits[0], rp_limits[1], 100)\n",
    "plt.plot(rp_graph,eff_graph,'r-')\n",
    "plt.plot(rp_test, fs(rp_test), 'b:')"
   ]
  },
  {
   "cell_type": "code",
   "execution_count": 80,
   "metadata": {},
   "outputs": [
    {
     "name": "stdout",
     "output_type": "stream",
     "text": [
      "7.320629200450989e-29\n"
     ]
    }
   ],
   "source": [
    "#error\n",
    "ey = fs(rp_graph)\n",
    "print((np.square(eff_graph - ey)).mean(axis=0))"
   ]
  },
  {
   "cell_type": "code",
   "execution_count": 76,
   "metadata": {},
   "outputs": [
    {
     "name": "stdout",
     "output_type": "stream",
     "text": [
      "viable options : \n",
      "\n",
      "Stages\trp\teff\tDelW : \n",
      "\n",
      "1\t1.53\t88.38\t17.15\n",
      "2\t1.24\t84.62\t22.17\n",
      "3\t1.16\t82.29\t25.52\n"
     ]
    }
   ],
   "source": [
    "MW = 2 #g/mol\n",
    "Psuc = 21.21 #KscG\n",
    "Pdis = 32.93 #KscG\n",
    "PLOSS = 1 #%\n",
    "\n",
    "Psuc = Psuc + 1.0332\n",
    "Pdis = Pdis + 1.0332\n",
    "\n",
    "stage_no = np.linspace(1,10,10)\n",
    "Ploss = np.zeros(10)\n",
    "rp = np.zeros(10)\n",
    "\n",
    "Ploss = ((100-PLOSS)/100)** (stage_no-1)\n",
    "rp = (Pdis/(Psuc*Ploss))** (1/stage_no)\n",
    "# print(rp)\n",
    "\n",
    "stage_no = stage_no[(rp>=rp_limits[0])*(rp<=rp_limits[1])]\n",
    "rp = rp[(rp>=rp_limits[0])*(rp<=rp_limits[1])]\n",
    "delW = np.zeros(rp.size)\n",
    "eff = fs(rp)\n",
    "if(MW<4):\n",
    "    delW = (100*((100/eff)-1))+4\n",
    "else:\n",
    "    delW = (100*((100/eff)-1))+1\n",
    "\n",
    "print(\"viable options : \\n\")\n",
    "print(\"Stages\\trp\\teff\\tDelW\\n\")\n",
    "for i,j,k,l in zip(stage_no, rp, eff, delW):\n",
    "    print(\"%d\\t%.2f\\t%.2f\\t%.2f\" %(i, j, k, l))"
   ]
  }
 ],
 "metadata": {
  "kernelspec": {
   "display_name": "py_latest",
   "language": "python",
   "name": "python3"
  },
  "language_info": {
   "codemirror_mode": {
    "name": "ipython",
    "version": 3
   },
   "file_extension": ".py",
   "mimetype": "text/x-python",
   "name": "python",
   "nbconvert_exporter": "python",
   "pygments_lexer": "ipython3",
   "version": "3.11.0"
  },
  "orig_nbformat": 4
 },
 "nbformat": 4,
 "nbformat_minor": 2
}
