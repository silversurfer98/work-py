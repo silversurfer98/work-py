{
 "cells": [
  {
   "cell_type": "code",
   "execution_count": 1,
   "metadata": {},
   "outputs": [],
   "source": [
    "import numpy as np"
   ]
  },
  {
   "cell_type": "code",
   "execution_count": 28,
   "metadata": {},
   "outputs": [],
   "source": [
    "# data needed\n",
    "d = 0.127 # in mm\n",
    "ph = 993.49\n",
    "pl = 470.69\n",
    "pc = 39.16\n",
    "visc = 0.011 #cP\n",
    "Vs = np.array([0,0,0],dtype='float32')\n",
    "\n",
    "Vhl = np.array([0,0,0],dtype='float32')\n",
    "Vlh = np.array([0,0,0],dtype='float32')\n"
   ]
  },
  {
   "cell_type": "code",
   "execution_count": 29,
   "metadata": {},
   "outputs": [],
   "source": [
    "#visc = visc*0.001 #kg/m.s\n",
    "# Re < 2\n",
    "Vs[0] = 0.545*(d**2 * (ph-pl) / visc)\n",
    "# 2<= Re<=500\n",
    "Vs[1] = 5.62*((d**1.143) * ((ph-pl)**0.714) / (visc**0.429 * pc**0.286))\n",
    "# Re > 500\n",
    "Vs[2] = 172.3*(d * (ph-pl) / visc)**0.5\n",
    "\n",
    "Re =  0.001 * d * Vs * pc / visc"
   ]
  },
  {
   "cell_type": "code",
   "execution_count": 31,
   "metadata": {},
   "outputs": [
    {
     "name": "stdout",
     "output_type": "stream",
     "text": [
      "Velocity  = 417.78 mm/s and Re is 188.89\n",
      "Velocity  = 112.45 mm/s and Re is 50.84\n",
      "Velocity  = 13386.24 mm/s and Re is 6052.19\n"
     ]
    }
   ],
   "source": [
    "for i in range(0,3):\n",
    "    print(\"Velocity  = %2.2f mm/s and Re is %2.2f\" %(Vs[i],Re[i]))"
   ]
  },
  {
   "cell_type": "code",
   "execution_count": null,
   "metadata": {},
   "outputs": [],
   "source": [
    "visc = visc*0.001 #kg/m.s\n",
    "# Re < 2\n",
    "Vhl[0] = 0.545*(d**2 * (ph-pl) / visc)\n",
    "# 2<= Re<=500\n",
    "Vhl[1] = 5.62*((d**1.143) * ((ph-pl)**0.714) / (visc**0.429 * pl**0.286))\n",
    "# Re > 500\n",
    "Vhl[2] = 172.3*(d * (ph-pl) / visc)**0.5\n",
    "\n",
    "Re =  0.001 * d * Vs * pc / visc"
   ]
  },
  {
   "cell_type": "code",
   "execution_count": null,
   "metadata": {},
   "outputs": [],
   "source": [
    "# now dia \n",
    "# residence time\n",
    "\n",
    "Ti_default = np.array([60,120,60],dtype='float32') # in s\n",
    "Hi_min = np.array([0.1,0.2,0.1],dtype='float32') # in m\n",
    "\n",
    "Vh = 0.275\n",
    "\n",
    "(np.arccos((r-h)/r) - (r-h) * (2 * r * h - h*h)**0.5)/np.pi\n",
    "\n"
   ]
  },
  {
   "cell_type": "code",
   "execution_count": 28,
   "metadata": {},
   "outputs": [
    {
     "name": "stdout",
     "output_type": "stream",
     "text": [
      "k = 0.04942 \n",
      "kv = 0.08524 \n",
      "kd = 0.12000 \n",
      "\n",
      "[0.2030099  0.35017171 0.49298182]\n",
      "[3.81672728 2.90609101 2.44925659]\n"
     ]
    }
   ],
   "source": [
    "pl = 551.85\n",
    "# pl = 995.95\n",
    "pv = 30.869\n",
    "\n",
    "kv = max(np.array([0.08,0.15*(pl/pv-1)**-0.2]))\n",
    "kd = max(np.array([0.12,0.15*(pl/pv-1)**-0.2]))\n",
    "\n",
    "e = 0.1 # wt%\n",
    "sufTen = 10.855 #dyne/cm *0.001 to N/m\n",
    "\n",
    "k_nodem = 3.148 * (e/100)**(1/3) * ((sufTen * 0.001)/(pl/pv))**0.25\n",
    "\n",
    "temp = ((pl/pv)-1)**0.5\n",
    "\n",
    "vs = np.array([k_nodem*temp, kv*temp, kd*temp])\n",
    "\n",
    "print(\"k = %2.5f \\nkv = %2.5f \\nkd = %2.5f \\n\"%(k_nodem,kv,kd))\n",
    "\n",
    "print(vs)\n",
    "\n",
    "qg = 258115.7/(pv*3600)\n",
    "d = ((qg/vs)*(4/np.pi))**0.5\n",
    "print(d)\n"
   ]
  }
 ],
 "metadata": {
  "kernelspec": {
   "display_name": "Python 3.10.8 64-bit",
   "language": "python",
   "name": "python3"
  },
  "language_info": {
   "codemirror_mode": {
    "name": "ipython",
    "version": 3
   },
   "file_extension": ".py",
   "mimetype": "text/x-python",
   "name": "python",
   "nbconvert_exporter": "python",
   "pygments_lexer": "ipython3",
   "version": "3.10.8 (tags/v3.10.8:aaaf517, Oct 11 2022, 16:50:30) [MSC v.1933 64 bit (AMD64)]"
  },
  "orig_nbformat": 4,
  "vscode": {
   "interpreter": {
    "hash": "559ace3a43580f24d3b0afb83825b48f66df98e265f78a71c1931525a081c6dc"
   }
  }
 },
 "nbformat": 4,
 "nbformat_minor": 2
}
