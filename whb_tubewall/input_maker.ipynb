{
 "cells": [
  {
   "cell_type": "code",
   "execution_count": null,
   "metadata": {},
   "outputs": [],
   "source": [
    "import os\n",
    "import sys\n",
    "import subprocess\n",
    "import numpy as np\n",
    "from matplotlib import pyplot as plt\n",
    "import pandas as pd\n",
    "import time"
   ]
  },
  {
   "cell_type": "code",
   "execution_count": null,
   "metadata": {},
   "outputs": [],
   "source": [
    "ss=0.0005\n",
    "ts=0.0001\n",
    "k=31.0\n",
    "calcno=1234567\n",
    "\n",
    "dataframe = pd.read_excel(\"input_from_gips.xlsx\")\n",
    "dataframe['C'][0]\n",
    "\n",
    "with open('input_skeleton.txt') as inp_skel:\n",
    "    all_lines = inp_skel.readlines()\n",
    "\n",
    "inp = open(\"input.txt\",\"w\")\n",
    "\n",
    "print(all_lines[0], end = \"\",flush =True,file=inp)\n",
    "print(all_lines[1], end = \"\",flush =True,file=inp)\n",
    "print(all_lines[2], end = \"\",flush =True,file=inp)\n",
    "print(int(calcno), end = \"\\n\",flush =True,file=inp)\n",
    "print(all_lines[3], end = \"\",flush =True,file=inp)\n",
    "print(dataframe['C'][1]/1000,\" \",dataframe['C'][2]/1000,file=inp)\n",
    "print(all_lines[4], end = \"\",flush =True,file=inp)\n",
    "print(dataframe['C'][3],file=inp)\n",
    "\n",
    "print(all_lines[5], end = \"\",flush =True,file=inp)\n",
    "print(\"20\", end = \"\\n\",flush =True,file=inp)\n",
    "print(all_lines[6], end = \"\",flush =True,file=inp)\n",
    "print(\"5\", end = \"\\n\",flush =True,file=inp)\n",
    "\n",
    "print(all_lines[7], end = \"\",flush =True,file=inp)\n",
    "print(int(dataframe['C'][4]),file=inp)\n",
    "\n",
    "print(all_lines[8], end = \"\",flush =True,file=inp)\n",
    "print(dataframe['C'][5],file=inp)\n",
    "\n",
    "print(all_lines[9], end = \"\",flush =True,file=inp)\n",
    "print(dataframe['C'][6],\" \",dataframe['C'][7],file=inp)\n",
    "\n",
    "print(all_lines[10], end = \"\",flush =True,file=inp)\n",
    "print(dataframe['C'][8],\" \",dataframe['C'][9],file=inp)\n",
    "\n",
    "print(all_lines[11], end = \"\",flush =True,file=inp)\n",
    "print(dataframe['C'][10],\" \",dataframe['C'][11],file=inp)\n",
    "\n",
    "print(all_lines[12], end = \"\",flush =True,file=inp)\n",
    "print(dataframe['C'][12],\" \",dataframe['C'][13],file=inp)\n",
    "\n",
    "print(all_lines[13], end = \"\",flush =True,file=inp)\n",
    "print(dataframe['C'][14],file=inp)\n",
    "\n",
    "print(all_lines[14], end = \"\",flush =True,file=inp)\n",
    "print(dataframe['C'][15],file=inp)\n",
    "\n",
    "print(all_lines[15], end = \"\",flush =True,file=inp)\n",
    "print(dataframe['C'][16],file=inp)\n",
    "\n",
    "print(all_lines[16], end = \"\",flush =True,file=inp)\n",
    "print(dataframe['C'][17],file=inp)\n",
    "\n",
    "print(all_lines[17], end = \"\",flush =True,file=inp)\n",
    "print(k, end = \"\\n\",flush =True,file=inp)\n",
    "\n",
    "print(all_lines[18], end = \"\",flush =True,file=inp)\n",
    "print(ss, end = \"\\n\",flush =True,file=inp)\n",
    "print(all_lines[19], end = \"\",flush =True,file=inp)\n",
    "print(ts, end = \"\\n\",flush =True,file=inp)\n",
    "\n",
    "print(all_lines[20], end = \"\",flush =True,file=inp)\n",
    "print(all_lines[21], end = \"\",flush =True,file=inp)\n",
    "print(all_lines[22], end = \"\",flush =True,file=inp)\n",
    "print(all_lines[23], end = \"\",flush =True,file=inp)\n",
    "print(all_lines[24], end = \"\",flush =True,file=inp)\n",
    "\n",
    "\n",
    "inp.close()"
   ]
  },
  {
   "cell_type": "code",
   "execution_count": null,
   "metadata": {},
   "outputs": [],
   "source": [
    "if os.path.exists('OUTPUT1.DAT') and os.path.exists('TUBEWALLTEMP.QTP'):\n",
    "    os.remove('OUTPUT1.DAT')\n",
    "    os.remove('TUBEWALLTEMP.QTP')"
   ]
  },
  {
   "cell_type": "code",
   "execution_count": null,
   "metadata": {},
   "outputs": [],
   "source": [
    "'''\n",
    "the code below will execute and produce output txt\n",
    "'''\n",
    "c = \"whb.exe\"\n",
    "def execute(command):\n",
    "    popen = subprocess.Popen(command, stdout=subprocess.PIPE)\n",
    "    lines_iterator = iter(popen.stdout.readline, b\"\")\n",
    "    file1 = open(\"output.txt\",\"w\")\n",
    "    while popen.poll() is None:\n",
    "        for line in lines_iterator:\n",
    "            nline = line.rstrip()\n",
    "            print(nline.decode(\"latin\"), end = \"\\r\\n\",flush =True, file=file1) # yield line\n",
    "    file1.close()\n",
    "execute(c)"
   ]
  },
  {
   "cell_type": "code",
   "execution_count": null,
   "metadata": {},
   "outputs": [],
   "source": [
    "with open('TEMPERATUREPROFILE.TXT') as f:\n",
    "    lines = f.readlines()\n",
    "\n",
    "data = np.array(lines[2:])\n",
    "h = np.vectorize(lambda s: s.strip())(data)\n",
    "\n",
    "l=[]\n",
    "t=[]\n",
    "for i in h:\n",
    "    j = i.split('        ')\n",
    "    l.append(float(j[0]))\n",
    "    t.append(float(j[1]))\n",
    "\n",
    "len = np.array(l, dtype=float)\n",
    "temp = np.array(t, dtype=float)"
   ]
  },
  {
   "cell_type": "code",
   "execution_count": null,
   "metadata": {},
   "outputs": [],
   "source": [
    "count = -1\n",
    "for i in temp:\n",
    "    if i>=400:\n",
    "        count = count + 1\n",
    "count = count + 1\n",
    "if count>0:\n",
    "    print(\"we need coating upto \",len[count])\n",
    "else:\n",
    "    print(\"we dont need any coating\") \n"
   ]
  },
  {
   "cell_type": "code",
   "execution_count": null,
   "metadata": {},
   "outputs": [],
   "source": [
    "plt.plot(len, temp)\n",
    "\n",
    "plt.title(\"Temperature profile graph\")\n",
    "plt.xlabel(\"Tube length -> m\")\n",
    "plt.ylabel(\"Temperature -> Deg C\")\n",
    "\n",
    "plt.show()"
   ]
  },
  {
   "cell_type": "code",
   "execution_count": null,
   "metadata": {},
   "outputs": [],
   "source": [
    "figure, axis = plt.subplots(2, 2)\n",
    "axis[0,0].plot(len, temp)\n",
    "\n",
    "axis[0,0].set_title(\"Temperature profile graph at clean condition\")\n",
    "axis[0,0].set_xlabel(\"Tube length -> m\")\n",
    "axis[0,0].ylabel(\"Temperature -> Deg C\")"
   ]
  },
  {
   "cell_type": "code",
   "execution_count": null,
   "metadata": {},
   "outputs": [],
   "source": [
    "result = subprocess.run(\n",
    "    [\"whb.exe\"], capture_output=True, text=True\n",
    ")\n",
    "print(\"stdout:\", result.stdout)\n",
    "print(\"stderr:\", result.stderr)"
   ]
  },
  {
   "cell_type": "code",
   "execution_count": null,
   "metadata": {},
   "outputs": [],
   "source": [
    "fileno = 1\n",
    "filename = \"TEMPERATUREPROFILE\" + str(fileno) + \".txt\"\n",
    "print(filename)\n",
    "\n",
    "import shutil\n",
    "shutil.copy(\"TEMPERATUREPROFILE.txt\", filename)"
   ]
  }
 ],
 "metadata": {
  "kernelspec": {
   "display_name": "py_latest",
   "language": "python",
   "name": "python3"
  },
  "language_info": {
   "codemirror_mode": {
    "name": "ipython",
    "version": 3
   },
   "file_extension": ".py",
   "mimetype": "text/x-python",
   "name": "python",
   "nbconvert_exporter": "python",
   "pygments_lexer": "ipython3",
   "version": "3.11.0"
  },
  "orig_nbformat": 4
 },
 "nbformat": 4,
 "nbformat_minor": 2
}
