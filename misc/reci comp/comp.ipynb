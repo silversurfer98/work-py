{
 "cells": [
  {
   "cell_type": "code",
   "execution_count": null,
   "metadata": {},
   "outputs": [],
   "source": [
    "import numpy as np\n",
    "from matplotlib import pyplot as plt\n",
    "import pandas as pd\n",
    "from scipy.interpolate import interp1d as ip"
   ]
  },
  {
   "cell_type": "code",
   "execution_count": null,
   "metadata": {},
   "outputs": [],
   "source": [
    "df = pd.read_csv(\"curve_data.csv\")\n",
    "eff_graph = np.array(df['eff'])\n",
    "rp_graph = np.array(df['rp'])\n",
    "# plt.plot(rp_graph,eff_graph)\n",
    "rp_limits = np.array([np.min(rp_graph), np.max(rp_graph)])\n",
    "eff_limits = np.array([np.min(eff_graph), np.max(eff_graph)])"
   ]
  },
  {
   "cell_type": "code",
   "execution_count": null,
   "metadata": {},
   "outputs": [],
   "source": [
    "fs = ip(rp_graph, eff_graph, kind='cubic')\n",
    "rp_test = np.linspace(rp_limits[0], rp_limits[1], 100)\n",
    "plt.plot(rp_graph,eff_graph,'r-')\n",
    "plt.plot(rp_test, fs(rp_test), 'b:')"
   ]
  },
  {
   "cell_type": "code",
   "execution_count": null,
   "metadata": {},
   "outputs": [],
   "source": [
    "#error\n",
    "ey = fs(rp_graph)\n",
    "print((np.square(eff_graph - ey)).mean(axis=0))"
   ]
  },
  {
   "cell_type": "code",
   "execution_count": null,
   "metadata": {},
   "outputs": [],
   "source": [
    "MW = 8.52 #g/mol\n",
    "Psuc = 17.447344 #KscG\n",
    "Pdis = 144.53458 #KscG\n",
    "PLOSS = 1 #%\n",
    "\n",
    "Psuc = Psuc + 1.0332\n",
    "Pdis = Pdis + 1.0332\n",
    "\n",
    "stage_no = np.linspace(1,10,10)\n",
    "Ploss = np.zeros(10)\n",
    "rp = np.zeros(10)\n",
    "\n",
    "Ploss = ((100-PLOSS)/100)** (stage_no-1)\n",
    "rp = (Pdis/(Psuc*Ploss))** (1/stage_no)\n",
    "# print(rp)\n",
    "\n",
    "# set me before running\n",
    "ch=\"normal method\"\n",
    "\n",
    "if(ch==\"normal method\"):\n",
    "    stage_no = stage_no[(rp>=rp_limits[0])*(rp<=rp_limits[1])]\n",
    "    rp = rp[(rp>=rp_limits[0])*(rp<=rp_limits[1])]\n",
    "    eff = fs(rp)\n",
    "else:\n",
    "    delW = np.zeros(rp.size)\n",
    "    eff = np.zeros(rp.size)\n",
    "    i = 0\n",
    "    for r in rp:\n",
    "        try:\n",
    "            eff[i] = fs(r)\n",
    "        except:\n",
    "            if(r>rp_limits[1]):\n",
    "                eff[i] = 90\n",
    "            else:\n",
    "                eff[i] = 100\n",
    "        i+=1\n",
    "\n",
    "if(MW<4):\n",
    "    delW = (100*((100/eff)-1))+4\n",
    "else:\n",
    "    delW = (100*((100/eff)-1))+1\n",
    "\n",
    "print(\"viable options : \\n\")\n",
    "print(\"Stages\\trp\\teff\\tDelW\\n\")\n",
    "for i,j,k,l in zip(stage_no, rp, eff, delW):\n",
    "    print(\"%d\\t%.2f\\t%.2f\\t%.2f\" %(i, j, k, l))"
   ]
  }
 ],
 "metadata": {
  "kernelspec": {
   "display_name": "py_latest",
   "language": "python",
   "name": "python3"
  },
  "language_info": {
   "codemirror_mode": {
    "name": "ipython",
    "version": 3
   },
   "file_extension": ".py",
   "mimetype": "text/x-python",
   "name": "python",
   "nbconvert_exporter": "python",
   "pygments_lexer": "ipython3",
   "version": "3.11.0"
  },
  "orig_nbformat": 4
 },
 "nbformat": 4,
 "nbformat_minor": 2
}
