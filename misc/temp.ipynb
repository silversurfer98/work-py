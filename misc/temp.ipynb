{
 "cells": [
  {
   "cell_type": "code",
   "execution_count": null,
   "metadata": {},
   "outputs": [],
   "source": [
    "from matplotlib import pyplot as plt\n",
    "import numpy as np\n",
    "import sympy as smp\n",
    "import pandas as pd"
   ]
  },
  {
   "cell_type": "code",
   "execution_count": null,
   "metadata": {},
   "outputs": [],
   "source": [
    "bl = 340.0\n",
    "dia = 1000.0\n",
    "fbl = 0\n",
    "rbl = 0\n",
    "ld_ratio = 0\n",
    "i=0\n",
    "len=0\n",
    "t = fbl + rbl - 2*bl \n",
    "#for i in range(0,30):\n",
    "while ld_ratio<=10 and len<15:\n",
    "    print(\"BL = %5.3f  tube length = %5.3f and no of baffles %2d with L/D = %5.3f\" %(bl, len, 2*i, ld_ratio))\n",
    "    len = (bl*2*i+t)/1000\n",
    "    ld_ratio = len*1000/dia\n",
    "    i=i+1"
   ]
  },
  {
   "cell_type": "code",
   "execution_count": null,
   "metadata": {},
   "outputs": [],
   "source": [
    "do=31.75\n",
    "multipiler = 1.25\n",
    "pitch=do*multipiler\n",
    "i=0\n",
    "\n",
    "while multipiler<=1.67:\n",
    "    # print(\"pitch for \",do,\" is \",pitch+(i*0.0625), \" and multipiler is %4.3f\" %(multipiler))\n",
    "    print(\"pitch for %3.2f is %3.2f and multipiler is %4.3f and shell clearance is %2.1f\" %(do,pitch+(i*0.0625),multipiler,(pitch+(i*0.0625)-do)+10))\n",
    "    multipiler = (pitch+(i*0.0625))/do\n",
    "    i=i+1"
   ]
  },
  {
   "cell_type": "code",
   "execution_count": null,
   "metadata": {},
   "outputs": [],
   "source": [
    "''' calculating dimension for LWHB tube'''\n",
    "\n",
    "BoilerID = 27.8 # mm\n",
    "Clearance = 1.2 # mm\n",
    "Bayonet_thickness = 1.0 # mm\n",
    "Bayonet_gas_gap = 1.4 # mm\n",
    "\n",
    "OBOD = BoilerID - 2*Clearance\n",
    "OBID = OBOD - (2*Bayonet_thickness)\n",
    "IBOD = OBID - (2*Bayonet_gas_gap)\n",
    "IBID = IBOD - (2*Bayonet_thickness)\n",
    "\n",
    "print(\"All in mm\")\n",
    "print(\" IBDI = %2.1f\\n IBDO = %2.1f\\n OBDI = %2.1f\\n OBDO = %2.1f\\n\" %(IBID, IBOD, OBID, OBOD))"
   ]
  },
  {
   "cell_type": "code",
   "execution_count": null,
   "metadata": {},
   "outputs": [],
   "source": [
    "''' This is to find gap between nozzles in X type'''\n",
    "No_of_nozzles = 4\n",
    "Nozzle_dia = 508            # mm\n",
    "Shell_ID = 1490             # mm\n",
    "min_fac_from_shell = 0.7\n",
    "length = 6.035             # m\n",
    "\n",
    "if Nozzle_dia > (Shell_ID/3):\n",
    "    print(\"Are you sure abt the nozzle dia - it is bigger\")\n",
    "if Nozzle_dia < 1000:\n",
    "    left_len = length*1000 - 2*Nozzle_dia - 2*(min_fac_from_shell*Nozzle_dia)\n",
    "    left_nozzles = No_of_nozzles - 2\n",
    "    no_of_gaps = left_nozzles + 1\n",
    "    len_occupied_by_left_nozzle = left_len - left_nozzles*Nozzle_dia\n",
    "    gaps = len_occupied_by_left_nozzle / no_of_gaps\n",
    "    if gaps<Nozzle_dia:\n",
    "        print(\"we need more gaps between nozzles\")\n",
    "    else:\n",
    "        print(\"Gaps between Nozzle Circumference to Circumference : %5.2f and its is %1.1f times of nozzle dia\" %(gaps, gaps/Nozzle_dia))"
   ]
  },
  {
   "cell_type": "code",
   "execution_count": null,
   "metadata": {},
   "outputs": [],
   "source": [
    "no_of_tubes = 774\n",
    "OD = 31.75 # mm\n",
    "length_of_tube = 5.9 # m\n",
    "No_of_passes = 2\n",
    "Percent_area = 2  # %\n",
    "\n",
    "area = np.pi*(OD*1e-03)*no_of_tubes*length_of_tube*No_of_passes\n",
    "area_needed = area + area*Percent_area/100\n",
    "excess_tubes = area_needed / (np.pi*(OD*1e-03)*length_of_tube*No_of_passes)\n",
    "\n",
    "print(\"Area deviation = %2.1f percent and No. of tubes needed = %4.0f\" %(Percent_area, excess_tubes))"
   ]
  },
  {
   "cell_type": "code",
   "execution_count": null,
   "metadata": {},
   "outputs": [],
   "source": [
    "interval = np.array([0,5])\n",
    "rad = (np.max(interval) - np.min(interval)) / 2\n",
    "ptsn = 10\n",
    "ang = np.pi/ptsn\n",
    "x=[]\n",
    "for i in range(0,ptsn+1):\n",
    "    x.append(rad*np.cos(ang*i))\n",
    "\n",
    "x=np.array(x)\n",
    "print(x)"
   ]
  }
 ],
 "metadata": {
  "kernelspec": {
   "display_name": "Python 3.10.8 64-bit",
   "language": "python",
   "name": "python3"
  },
  "language_info": {
   "codemirror_mode": {
    "name": "ipython",
    "version": 3
   },
   "file_extension": ".py",
   "mimetype": "text/x-python",
   "name": "python",
   "nbconvert_exporter": "python",
   "pygments_lexer": "ipython3",
   "version": "3.11.0"
  },
  "orig_nbformat": 4,
  "vscode": {
   "interpreter": {
    "hash": "559ace3a43580f24d3b0afb83825b48f66df98e265f78a71c1931525a081c6dc"
   }
  }
 },
 "nbformat": 4,
 "nbformat_minor": 2
}
